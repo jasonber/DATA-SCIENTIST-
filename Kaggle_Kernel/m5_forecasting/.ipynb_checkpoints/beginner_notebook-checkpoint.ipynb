{
 "cells": [
  {
   "cell_type": "markdown",
   "metadata": {},
   "source": [
    "[原notebook](https://www.kaggle.com/ryuheeeei/let-s-start-from-here-beginners-data-analysis)"
   ]
  },
  {
   "cell_type": "code",
   "execution_count": 1,
   "metadata": {},
   "outputs": [],
   "source": [
    "import pandas as pd\n",
    "import numpy as np\n",
    "import gc"
   ]
  },
  {
   "cell_type": "markdown",
   "metadata": {},
   "source": [
    "# 数据载入"
   ]
  },
  {
   "cell_type": "code",
   "execution_count": 2,
   "metadata": {},
   "outputs": [],
   "source": [
    "data_path = \"/home/zhang/Documents/data_set/m5_forecasting_accuracy/\"\n",
    "\n",
    "calendar_df = pd.read_csv(f'{data_path}/calendar.csv')\n",
    "sell_prices_df = pd.read_csv(f'{data_path}/sell_prices.csv')\n",
    "sample_submission_df = pd.read_csv(f'{data_path}/sample_submission.csv')\n",
    "sales_train_validation_df = pd.read_csv(f'{data_path}/sales_train_validation.csv')"
   ]
  },
  {
   "cell_type": "markdown",
   "metadata": {},
   "source": [
    "# 数据整理"
   ]
  },
  {
   "cell_type": "code",
   "execution_count": 3,
   "metadata": {},
   "outputs": [
    {
     "name": "stdout",
     "output_type": "stream",
     "text": [
      "<class 'pandas.core.frame.DataFrame'>\n",
      "RangeIndex: 1969 entries, 0 to 1968\n",
      "Data columns (total 14 columns):\n",
      "date            1969 non-null object\n",
      "wm_yr_wk        1969 non-null int64\n",
      "weekday         1969 non-null object\n",
      "wday            1969 non-null int64\n",
      "month           1969 non-null int64\n",
      "year            1969 non-null int64\n",
      "d               1969 non-null object\n",
      "event_name_1    162 non-null object\n",
      "event_type_1    162 non-null object\n",
      "event_name_2    5 non-null object\n",
      "event_type_2    5 non-null object\n",
      "snap_CA         1969 non-null int64\n",
      "snap_TX         1969 non-null int64\n",
      "snap_WI         1969 non-null int64\n",
      "dtypes: int64(7), object(7)\n",
      "memory usage: 215.5+ KB\n"
     ]
    }
   ],
   "source": [
    "calendar_df.info()"
   ]
  },
  {
   "cell_type": "code",
   "execution_count": 4,
   "metadata": {},
   "outputs": [
    {
     "name": "stdout",
     "output_type": "stream",
     "text": [
      "<class 'pandas.core.frame.DataFrame'>\n",
      "RangeIndex: 1969 entries, 0 to 1968\n",
      "Data columns (total 14 columns):\n",
      "date            1969 non-null datetime64[ns]\n",
      "wm_yr_wk        1969 non-null int16\n",
      "weekday         1969 non-null category\n",
      "wday            1969 non-null int8\n",
      "month           1969 non-null int8\n",
      "year            1969 non-null int16\n",
      "d               1969 non-null object\n",
      "event_name_1    1969 non-null category\n",
      "event_type_1    1969 non-null category\n",
      "event_name_2    1969 non-null category\n",
      "event_type_2    1969 non-null category\n",
      "snap_CA         1969 non-null int8\n",
      "snap_TX         1969 non-null int8\n",
      "snap_WI         1969 non-null int8\n",
      "dtypes: category(5), datetime64[ns](1), int16(2), int8(5), object(1)\n",
      "memory usage: 60.2+ KB\n"
     ]
    }
   ],
   "source": [
    "# 修改数据类型减少内存占用\n",
    "chng_int8 = ['month', 'snap_CA', 'snap_TX', 'snap_WI', 'wday']\n",
    "chng_cat = ['weekday', 'event_name_1', 'event_type_1', \n",
    "            'event_name_2', 'event_type_2']\n",
    "\n",
    "# 64位的int变为8位的int\n",
    "calendar_df[chng_int8] = calendar_df[chng_int8].astype('int8')\n",
    "calendar_df[['wm_yr_wk', 'year']] = calendar_df[['wm_yr_wk', 'year']].astype('int16')\n",
    "calendar_df['date'] = calendar_df['date'].astype('datetime64')\n",
    "\n",
    "# 补充缺失值\n",
    "nan_features = chng_cat[1:]\n",
    "for i in nan_features:\n",
    "    calendar_df[i].fillna('unknow', inplace=True)\n",
    "#分类数据转化为数值    \n",
    "calendar_df[chng_cat] = calendar_df[chng_cat].astype('category')\n",
    "# 查看结果\n",
    "calendar_df.info()"
   ]
  },
  {
   "cell_type": "code",
   "execution_count": 5,
   "metadata": {},
   "outputs": [
    {
     "name": "stdout",
     "output_type": "stream",
     "text": [
      "<class 'pandas.core.frame.DataFrame'>\n",
      "RangeIndex: 30490 entries, 0 to 30489\n",
      "Columns: 1919 entries, id to d_1913\n",
      "dtypes: int64(1913), object(6)\n",
      "memory usage: 446.4+ MB\n"
     ]
    }
   ],
   "source": [
    "sales_train_validation_df.info()"
   ]
  },
  {
   "cell_type": "code",
   "execution_count": 6,
   "metadata": {},
   "outputs": [
    {
     "name": "stdout",
     "output_type": "stream",
     "text": [
      "<class 'pandas.core.frame.DataFrame'>\n",
      "RangeIndex: 30490 entries, 0 to 30489\n",
      "Columns: 1919 entries, id to d_1913\n",
      "dtypes: int16(1913), object(6)\n",
      "memory usage: 112.6+ MB\n"
     ]
    }
   ],
   "source": [
    "sales_train_validation_df.loc[:, 'd_1':] = sales_train_validation_df.loc[:,'d_1':].astype('int16')\n",
    "sales_train_validation_df.info()"
   ]
  },
  {
   "cell_type": "code",
   "execution_count": 7,
   "metadata": {},
   "outputs": [],
   "source": [
    "# 改变sell_price的id列\n",
    "sell_prices_df.loc[:, 'id'] = sell_prices_df.loc[:, \"item_id\"] + \"_\" + sell_prices_df.loc[:, \"store_id\"] + \"_validation\""
   ]
  },
  {
   "cell_type": "code",
   "execution_count": 8,
   "metadata": {
    "scrolled": true
   },
   "outputs": [
    {
     "data": {
      "text/html": [
       "<div>\n",
       "<style scoped>\n",
       "    .dataframe tbody tr th:only-of-type {\n",
       "        vertical-align: middle;\n",
       "    }\n",
       "\n",
       "    .dataframe tbody tr th {\n",
       "        vertical-align: top;\n",
       "    }\n",
       "\n",
       "    .dataframe thead th {\n",
       "        text-align: right;\n",
       "    }\n",
       "</style>\n",
       "<table border=\"1\" class=\"dataframe\">\n",
       "  <thead>\n",
       "    <tr style=\"text-align: right;\">\n",
       "      <th></th>\n",
       "      <th>store_id</th>\n",
       "      <th>item_id</th>\n",
       "      <th>wm_yr_wk</th>\n",
       "      <th>sell_price</th>\n",
       "      <th>id</th>\n",
       "    </tr>\n",
       "  </thead>\n",
       "  <tbody>\n",
       "    <tr>\n",
       "      <td>0</td>\n",
       "      <td>CA_1</td>\n",
       "      <td>HOBBIES_1_001</td>\n",
       "      <td>11325</td>\n",
       "      <td>9.58</td>\n",
       "      <td>HOBBIES_1_001_CA_1_validation</td>\n",
       "    </tr>\n",
       "    <tr>\n",
       "      <td>1</td>\n",
       "      <td>CA_1</td>\n",
       "      <td>HOBBIES_1_001</td>\n",
       "      <td>11326</td>\n",
       "      <td>9.58</td>\n",
       "      <td>HOBBIES_1_001_CA_1_validation</td>\n",
       "    </tr>\n",
       "    <tr>\n",
       "      <td>2</td>\n",
       "      <td>CA_1</td>\n",
       "      <td>HOBBIES_1_001</td>\n",
       "      <td>11327</td>\n",
       "      <td>8.26</td>\n",
       "      <td>HOBBIES_1_001_CA_1_validation</td>\n",
       "    </tr>\n",
       "    <tr>\n",
       "      <td>3</td>\n",
       "      <td>CA_1</td>\n",
       "      <td>HOBBIES_1_001</td>\n",
       "      <td>11328</td>\n",
       "      <td>8.26</td>\n",
       "      <td>HOBBIES_1_001_CA_1_validation</td>\n",
       "    </tr>\n",
       "    <tr>\n",
       "      <td>4</td>\n",
       "      <td>CA_1</td>\n",
       "      <td>HOBBIES_1_001</td>\n",
       "      <td>11329</td>\n",
       "      <td>8.26</td>\n",
       "      <td>HOBBIES_1_001_CA_1_validation</td>\n",
       "    </tr>\n",
       "  </tbody>\n",
       "</table>\n",
       "</div>"
      ],
      "text/plain": [
       "  store_id        item_id  wm_yr_wk  sell_price                             id\n",
       "0     CA_1  HOBBIES_1_001     11325        9.58  HOBBIES_1_001_CA_1_validation\n",
       "1     CA_1  HOBBIES_1_001     11326        9.58  HOBBIES_1_001_CA_1_validation\n",
       "2     CA_1  HOBBIES_1_001     11327        8.26  HOBBIES_1_001_CA_1_validation\n",
       "3     CA_1  HOBBIES_1_001     11328        8.26  HOBBIES_1_001_CA_1_validation\n",
       "4     CA_1  HOBBIES_1_001     11329        8.26  HOBBIES_1_001_CA_1_validation"
      ]
     },
     "execution_count": 8,
     "metadata": {},
     "output_type": "execute_result"
    }
   ],
   "source": [
    "sell_prices_df.head()"
   ]
  },
  {
   "cell_type": "code",
   "execution_count": 9,
   "metadata": {},
   "outputs": [],
   "source": [
    "sell_prices_df = pd.concat([sell_prices_df, \n",
    "                            sell_prices_df['item_id'].\n",
    "                            str.split('_', expand=True)], axis=1)\n",
    "sell_prices_df = sell_prices_df.rename(columns={0:'cat_id', 1:'dept_id'})\n"
   ]
  },
  {
   "cell_type": "code",
   "execution_count": 10,
   "metadata": {},
   "outputs": [
    {
     "data": {
      "text/html": [
       "<div>\n",
       "<style scoped>\n",
       "    .dataframe tbody tr th:only-of-type {\n",
       "        vertical-align: middle;\n",
       "    }\n",
       "\n",
       "    .dataframe tbody tr th {\n",
       "        vertical-align: top;\n",
       "    }\n",
       "\n",
       "    .dataframe thead th {\n",
       "        text-align: right;\n",
       "    }\n",
       "</style>\n",
       "<table border=\"1\" class=\"dataframe\">\n",
       "  <thead>\n",
       "    <tr style=\"text-align: right;\">\n",
       "      <th></th>\n",
       "      <th>store_id</th>\n",
       "      <th>item_id</th>\n",
       "      <th>wm_yr_wk</th>\n",
       "      <th>sell_price</th>\n",
       "      <th>id</th>\n",
       "      <th>cat_id</th>\n",
       "      <th>dept_id</th>\n",
       "      <th>2</th>\n",
       "    </tr>\n",
       "  </thead>\n",
       "  <tbody>\n",
       "    <tr>\n",
       "      <td>0</td>\n",
       "      <td>CA_1</td>\n",
       "      <td>HOBBIES_1_001</td>\n",
       "      <td>11325</td>\n",
       "      <td>9.58</td>\n",
       "      <td>HOBBIES_1_001_CA_1_validation</td>\n",
       "      <td>HOBBIES</td>\n",
       "      <td>1</td>\n",
       "      <td>001</td>\n",
       "    </tr>\n",
       "    <tr>\n",
       "      <td>1</td>\n",
       "      <td>CA_1</td>\n",
       "      <td>HOBBIES_1_001</td>\n",
       "      <td>11326</td>\n",
       "      <td>9.58</td>\n",
       "      <td>HOBBIES_1_001_CA_1_validation</td>\n",
       "      <td>HOBBIES</td>\n",
       "      <td>1</td>\n",
       "      <td>001</td>\n",
       "    </tr>\n",
       "    <tr>\n",
       "      <td>2</td>\n",
       "      <td>CA_1</td>\n",
       "      <td>HOBBIES_1_001</td>\n",
       "      <td>11327</td>\n",
       "      <td>8.26</td>\n",
       "      <td>HOBBIES_1_001_CA_1_validation</td>\n",
       "      <td>HOBBIES</td>\n",
       "      <td>1</td>\n",
       "      <td>001</td>\n",
       "    </tr>\n",
       "    <tr>\n",
       "      <td>3</td>\n",
       "      <td>CA_1</td>\n",
       "      <td>HOBBIES_1_001</td>\n",
       "      <td>11328</td>\n",
       "      <td>8.26</td>\n",
       "      <td>HOBBIES_1_001_CA_1_validation</td>\n",
       "      <td>HOBBIES</td>\n",
       "      <td>1</td>\n",
       "      <td>001</td>\n",
       "    </tr>\n",
       "    <tr>\n",
       "      <td>4</td>\n",
       "      <td>CA_1</td>\n",
       "      <td>HOBBIES_1_001</td>\n",
       "      <td>11329</td>\n",
       "      <td>8.26</td>\n",
       "      <td>HOBBIES_1_001_CA_1_validation</td>\n",
       "      <td>HOBBIES</td>\n",
       "      <td>1</td>\n",
       "      <td>001</td>\n",
       "    </tr>\n",
       "  </tbody>\n",
       "</table>\n",
       "</div>"
      ],
      "text/plain": [
       "  store_id        item_id  wm_yr_wk  sell_price  \\\n",
       "0     CA_1  HOBBIES_1_001     11325        9.58   \n",
       "1     CA_1  HOBBIES_1_001     11326        9.58   \n",
       "2     CA_1  HOBBIES_1_001     11327        8.26   \n",
       "3     CA_1  HOBBIES_1_001     11328        8.26   \n",
       "4     CA_1  HOBBIES_1_001     11329        8.26   \n",
       "\n",
       "                              id   cat_id dept_id    2  \n",
       "0  HOBBIES_1_001_CA_1_validation  HOBBIES       1  001  \n",
       "1  HOBBIES_1_001_CA_1_validation  HOBBIES       1  001  \n",
       "2  HOBBIES_1_001_CA_1_validation  HOBBIES       1  001  \n",
       "3  HOBBIES_1_001_CA_1_validation  HOBBIES       1  001  \n",
       "4  HOBBIES_1_001_CA_1_validation  HOBBIES       1  001  "
      ]
     },
     "execution_count": 10,
     "metadata": {},
     "output_type": "execute_result"
    }
   ],
   "source": [
    "sell_prices_df.head()"
   ]
  },
  {
   "cell_type": "code",
   "execution_count": 11,
   "metadata": {},
   "outputs": [],
   "source": [
    "sell_prices_df[['store_id', 'item_id', 'cat_id', 'dept_id']] = sell_prices_df[['store_id', 'item_id', 'cat_id', 'dept_id']].astype('category')\n",
    "sell_prices_df = sell_prices_df.drop(columns=2)"
   ]
  },
  {
   "cell_type": "code",
   "execution_count": 13,
   "metadata": {},
   "outputs": [
    {
     "data": {
      "text/html": [
       "<div>\n",
       "<style scoped>\n",
       "    .dataframe tbody tr th:only-of-type {\n",
       "        vertical-align: middle;\n",
       "    }\n",
       "\n",
       "    .dataframe tbody tr th {\n",
       "        vertical-align: top;\n",
       "    }\n",
       "\n",
       "    .dataframe thead th {\n",
       "        text-align: right;\n",
       "    }\n",
       "</style>\n",
       "<table border=\"1\" class=\"dataframe\">\n",
       "  <thead>\n",
       "    <tr style=\"text-align: right;\">\n",
       "      <th></th>\n",
       "      <th>store_id</th>\n",
       "      <th>item_id</th>\n",
       "      <th>wm_yr_wk</th>\n",
       "      <th>sell_price</th>\n",
       "      <th>id</th>\n",
       "      <th>cat_id</th>\n",
       "      <th>dept_id</th>\n",
       "    </tr>\n",
       "  </thead>\n",
       "  <tbody>\n",
       "    <tr>\n",
       "      <td>0</td>\n",
       "      <td>CA_1</td>\n",
       "      <td>HOBBIES_1_001</td>\n",
       "      <td>11325</td>\n",
       "      <td>9.58</td>\n",
       "      <td>HOBBIES_1_001_CA_1_validation</td>\n",
       "      <td>HOBBIES</td>\n",
       "      <td>1</td>\n",
       "    </tr>\n",
       "    <tr>\n",
       "      <td>1</td>\n",
       "      <td>CA_1</td>\n",
       "      <td>HOBBIES_1_001</td>\n",
       "      <td>11326</td>\n",
       "      <td>9.58</td>\n",
       "      <td>HOBBIES_1_001_CA_1_validation</td>\n",
       "      <td>HOBBIES</td>\n",
       "      <td>1</td>\n",
       "    </tr>\n",
       "    <tr>\n",
       "      <td>2</td>\n",
       "      <td>CA_1</td>\n",
       "      <td>HOBBIES_1_001</td>\n",
       "      <td>11327</td>\n",
       "      <td>8.26</td>\n",
       "      <td>HOBBIES_1_001_CA_1_validation</td>\n",
       "      <td>HOBBIES</td>\n",
       "      <td>1</td>\n",
       "    </tr>\n",
       "    <tr>\n",
       "      <td>3</td>\n",
       "      <td>CA_1</td>\n",
       "      <td>HOBBIES_1_001</td>\n",
       "      <td>11328</td>\n",
       "      <td>8.26</td>\n",
       "      <td>HOBBIES_1_001_CA_1_validation</td>\n",
       "      <td>HOBBIES</td>\n",
       "      <td>1</td>\n",
       "    </tr>\n",
       "    <tr>\n",
       "      <td>4</td>\n",
       "      <td>CA_1</td>\n",
       "      <td>HOBBIES_1_001</td>\n",
       "      <td>11329</td>\n",
       "      <td>8.26</td>\n",
       "      <td>HOBBIES_1_001_CA_1_validation</td>\n",
       "      <td>HOBBIES</td>\n",
       "      <td>1</td>\n",
       "    </tr>\n",
       "  </tbody>\n",
       "</table>\n",
       "</div>"
      ],
      "text/plain": [
       "  store_id        item_id  wm_yr_wk  sell_price  \\\n",
       "0     CA_1  HOBBIES_1_001     11325        9.58   \n",
       "1     CA_1  HOBBIES_1_001     11326        9.58   \n",
       "2     CA_1  HOBBIES_1_001     11327        8.26   \n",
       "3     CA_1  HOBBIES_1_001     11328        8.26   \n",
       "4     CA_1  HOBBIES_1_001     11329        8.26   \n",
       "\n",
       "                              id   cat_id dept_id  \n",
       "0  HOBBIES_1_001_CA_1_validation  HOBBIES       1  \n",
       "1  HOBBIES_1_001_CA_1_validation  HOBBIES       1  \n",
       "2  HOBBIES_1_001_CA_1_validation  HOBBIES       1  \n",
       "3  HOBBIES_1_001_CA_1_validation  HOBBIES       1  \n",
       "4  HOBBIES_1_001_CA_1_validation  HOBBIES       1  "
      ]
     },
     "execution_count": 13,
     "metadata": {},
     "output_type": "execute_result"
    }
   ],
   "source": [
    "sell_prices_df.head()"
   ]
  },
  {
   "cell_type": "code",
   "execution_count": null,
   "metadata": {},
   "outputs": [],
   "source": [
    "# aa = {'a':[1, 2, 3, 4], 'b':[5, 6, 7, 8]}\n",
    "# bb = {'c':[9, 10, 11, 12], 'd':[13, 14, 15, 16]}\n",
    "\n",
    "# a_df = pd.DataFrame(aa)\n",
    "# b_df = pd.DataFrame(bb)\n",
    "\n",
    "# c = pd.concat([a_df, b_df], axis=1)\n",
    "# d = pd.concat([a_df, b_df], axis=0)"
   ]
  },
  {
   "cell_type": "code",
   "execution_count": null,
   "metadata": {},
   "outputs": [],
   "source": [
    "# f = {'e':[str(x) + '_' + str(y) for x, y in zip(aa['b'],bb['d'])]}\n",
    "# f_df = pd.DataFrame(f)\n",
    "# f_df['e'].str.split('_', expand=True)"
   ]
  },
  {
   "cell_type": "markdown",
   "metadata": {},
   "source": [
    "# 数据清洗 Data Cleaning"
   ]
  },
  {
   "cell_type": "code",
   "execution_count": 12,
   "metadata": {},
   "outputs": [],
   "source": [
    "def make_dataframe():\n",
    "    # 宽表\n",
    "    df_wide_train = sales_train_validation_df.drop(columns=['item_id',\n",
    "                                                            'dept_id',\n",
    "                                                            'cat_id',\n",
    "                                                            'state_id',\n",
    "                                                            'store_id', \n",
    "                                                            'id']).T\n",
    "    df_wide_train.index = calendar_df['date'][:1913]\n",
    "    df_wide_train.columns = sales_train_validation_df['id']\n",
    "    \n",
    "    # 测试集数据\n",
    "    df_wide_test = pd.DataFrame(np.zeros(shape=(56, len(df_wide_train.columns))),\n",
    "                                index=calendar_df.date[1913:], \n",
    "                                columns=df_wide_train.columns)\n",
    "    \n",
    "    df_wide = pd.concat([df_wide_train, df_wide_test])\n",
    "    \n",
    "    # 宽表转长表\n",
    "    df_long = df_wide.stack().reset_index(1)\n",
    "    df_long.columns = ['id', 'value']\n",
    "    \n",
    "    del df_wide_train, df_wide_test, df_wide\n",
    "    gc.collect()\n",
    "    \n",
    "    df = pd.merge(pd.merge(df_long.reset_index(), calendar_df, on=\"date\"),\n",
    "                 sell_prices_df, on=['id', 'wm_yr_wk'])\n",
    "    df = df.drop(columns=['d'])\n",
    "    \n",
    "    df['sell_price'] = df['sell_price'].astype('float16')\n",
    "    df['value'] = df['value'].astype('int32')\n",
    "    df['state_id'] = df['store_id'].str[:2].astype('category')\n",
    "#     df['state_id'] = df['state_id']\n",
    "    \n",
    "    del df_long\n",
    "    gc.collect()\n",
    "    \n",
    "    return df\n",
    "\n",
    "df = make_dataframe()"
   ]
  },
  {
   "cell_type": "code",
   "execution_count": null,
   "metadata": {},
   "outputs": [],
   "source": [
    "# df1= pd.DataFrame(np.zeros(shape=(56, len(sales_train_validation_df['id']))),\n",
    "#                             index=calendar_df.date[1913:], \n",
    "#                             columns=sales_train_validation_df['id'])"
   ]
  },
  {
   "cell_type": "code",
   "execution_count": null,
   "metadata": {},
   "outputs": [],
   "source": [
    "# df1.stack()"
   ]
  },
  {
   "cell_type": "code",
   "execution_count": null,
   "metadata": {},
   "outputs": [],
   "source": [
    "# df1.shape"
   ]
  },
  {
   "cell_type": "code",
   "execution_count": null,
   "metadata": {},
   "outputs": [],
   "source": [
    "# aa = {'a':[1, 2, 3, 4], 'b':[5, 6, 7, 8]}\n",
    "# bb = {'c':[9, 10, 11, 12], 'd':[13, 14, 15, 16]}\n",
    "\n",
    "# a_df = pd.DataFrame(aa)\n",
    "# b_df = pd.DataFrame(bb)\n",
    "\n",
    "# c = pd.concat([a_df, b_df], axis=1)\n",
    "# d = pd.concat([a_df, b_df], axis=0)"
   ]
  },
  {
   "cell_type": "code",
   "execution_count": null,
   "metadata": {},
   "outputs": [],
   "source": [
    "# c.stack()"
   ]
  },
  {
   "cell_type": "code",
   "execution_count": null,
   "metadata": {},
   "outputs": [],
   "source": [
    "# c.unstack"
   ]
  },
  {
   "cell_type": "code",
   "execution_count": null,
   "metadata": {
    "scrolled": true
   },
   "outputs": [],
   "source": [
    "df.dtypes"
   ]
  },
  {
   "cell_type": "code",
   "execution_count": null,
   "metadata": {},
   "outputs": [],
   "source": []
  }
 ],
 "metadata": {
  "kernelspec": {
   "display_name": "Python 3",
   "language": "python",
   "name": "python3"
  },
  "language_info": {
   "codemirror_mode": {
    "name": "ipython",
    "version": 3
   },
   "file_extension": ".py",
   "mimetype": "text/x-python",
   "name": "python",
   "nbconvert_exporter": "python",
   "pygments_lexer": "ipython3",
   "version": "3.7.4"
  }
 },
 "nbformat": 4,
 "nbformat_minor": 2
}
