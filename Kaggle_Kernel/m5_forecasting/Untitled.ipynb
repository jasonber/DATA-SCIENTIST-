{
 "cells": [
  {
   "cell_type": "code",
   "execution_count": 1,
   "metadata": {},
   "outputs": [],
   "source": [
    "import pandas as pd\n",
    "import numpy as np\n",
    "import gc"
   ]
  },
  {
   "cell_type": "code",
   "execution_count": 2,
   "metadata": {},
   "outputs": [],
   "source": [
    "data_path = \"/home/zhang/Documents/data_set/m5_forecasting_accuracy/\"\n",
    "\n",
    "calendar_df = pd.read_csv(f'{data_path}/calendar.csv')\n",
    "sell_prices_df = pd.read_csv(f'{data_path}/sell_prices.csv')\n",
    "sample_submission_df = pd.read_csv(f'{data_path}/sample_submission.csv')\n",
    "sales_train_validation_df = pd.read_csv(f'{data_path}/sales_train_validation.csv')"
   ]
  },
  {
   "cell_type": "code",
   "execution_count": 3,
   "metadata": {},
   "outputs": [],
   "source": [
    "# Calendar data type cast -> Memory Usage Reduction\n",
    "calendar_df[[\"month\", \"snap_CA\", \"snap_TX\", \"snap_WI\", \"wday\"]] = calendar_df[[\"month\", \"snap_CA\", \"snap_TX\", \"snap_WI\", \"wday\"]].astype(\"int8\")\n",
    "calendar_df[[\"wm_yr_wk\", \"year\"]] = calendar_df[[\"wm_yr_wk\", \"year\"]].astype(\"int16\") \n",
    "calendar_df[\"date\"] = calendar_df[\"date\"].astype(\"datetime64\")\n",
    "\n",
    "nan_features = ['event_name_1', 'event_type_1', 'event_name_2', 'event_type_2']\n",
    "for feature in nan_features:\n",
    "    calendar_df[feature].fillna('unknown', inplace = True)\n",
    "\n",
    "calendar_df[[\"weekday\", \"event_name_1\", \"event_type_1\", \"event_name_2\", \"event_type_2\"]] = calendar_df[[\"weekday\", \"event_name_1\", \"event_type_1\", \"event_name_2\", \"event_type_2\"]] .astype(\"category\")"
   ]
  },
  {
   "cell_type": "code",
   "execution_count": 4,
   "metadata": {},
   "outputs": [],
   "source": [
    "# Sales Training dataset cast -> Memory Usage Reduction\n",
    "sales_train_validation_df.loc[:, \"d_1\":] = sales_train_validation_df.loc[:, \"d_1\":].astype(\"int16\")"
   ]
  },
  {
   "cell_type": "code",
   "execution_count": 5,
   "metadata": {},
   "outputs": [],
   "source": [
    "# Make ID column to sell_price dataframe\n",
    "sell_prices_df.loc[:, \"id\"] = sell_prices_df.loc[:, \"item_id\"] + \"_\" + sell_prices_df.loc[:, \"store_id\"] + \"_validation\""
   ]
  },
  {
   "cell_type": "code",
   "execution_count": 6,
   "metadata": {},
   "outputs": [],
   "source": [
    "sell_prices_df = pd.concat([sell_prices_df, sell_prices_df[\"item_id\"].str.split(\"_\", expand=True)], axis=1)\n",
    "sell_prices_df = sell_prices_df.rename(columns={0:\"cat_id\", 1:\"dept_id\"})\n",
    "sell_prices_df[[\"store_id\", \"item_id\", \"cat_id\", \"dept_id\"]] = sell_prices_df[[\"store_id\",\"item_id\", \"cat_id\", \"dept_id\"]].astype(\"category\")\n",
    "sell_prices_df = sell_prices_df.drop(columns=2)"
   ]
  },
  {
   "cell_type": "code",
   "execution_count": 7,
   "metadata": {},
   "outputs": [],
   "source": [
    "def make_dataframe():\n",
    "    # Wide format dataset \n",
    "    df_wide_train = sales_train_validation_df.drop(columns=[\"item_id\", \"dept_id\", \"cat_id\", \"state_id\",\"store_id\", \"id\"]).T\n",
    "    df_wide_train.index = calendar_df[\"date\"][:1913]\n",
    "    df_wide_train.columns = sales_train_validation_df[\"id\"]\n",
    "    \n",
    "    # Making test label dataset\n",
    "    df_wide_test = pd.DataFrame(np.zeros(shape=(56, len(df_wide_train.columns))), index=calendar_df.date[1913:], columns=df_wide_train.columns)\n",
    "    df_wide = pd.concat([df_wide_train, df_wide_test])\n",
    "\n",
    "    # Convert wide format to long format\n",
    "    df_long = df_wide.stack().reset_index(1)\n",
    "    df_long.columns = [\"id\", \"value\"]\n",
    "\n",
    "    del df_wide_train, df_wide_test, df_wide\n",
    "    gc.collect()\n",
    "    \n",
    "    df = pd.merge(pd.merge(df_long.reset_index(), calendar_df, on=\"date\"), sell_prices_df, on=[\"id\", \"wm_yr_wk\"])\n",
    "    df = df.drop(columns=[\"d\"])\n",
    "#     df[[\"cat_id\", \"store_id\", \"item_id\", \"id\", \"dept_id\"]] = df[[\"cat_id\"\", store_id\", \"item_id\", \"id\", \"dept_id\"]].astype(\"category\")\n",
    "    df[\"sell_price\"] = df[\"sell_price\"].astype(\"float16\")   \n",
    "    df[\"value\"] = df[\"value\"].astype(\"int32\")\n",
    "    df[\"state_id\"] = df[\"store_id\"].str[:2].astype(\"category\")\n",
    "\n",
    "\n",
    "    del df_long\n",
    "    gc.collect()\n",
    "\n",
    "    return df\n",
    "\n",
    "df = make_dataframe()"
   ]
  },
  {
   "cell_type": "code",
   "execution_count": 8,
   "metadata": {},
   "outputs": [
    {
     "data": {
      "text/plain": [
       "date            datetime64[ns]\n",
       "id                      object\n",
       "value                    int32\n",
       "wm_yr_wk                 int16\n",
       "weekday               category\n",
       "wday                      int8\n",
       "month                     int8\n",
       "year                     int16\n",
       "event_name_1          category\n",
       "event_type_1          category\n",
       "event_name_2          category\n",
       "event_type_2          category\n",
       "snap_CA                   int8\n",
       "snap_TX                   int8\n",
       "snap_WI                   int8\n",
       "store_id              category\n",
       "item_id               category\n",
       "sell_price             float16\n",
       "cat_id                category\n",
       "dept_id               category\n",
       "state_id              category\n",
       "dtype: object"
      ]
     },
     "execution_count": 8,
     "metadata": {},
     "output_type": "execute_result"
    }
   ],
   "source": [
    "df.dtypes"
   ]
  }
 ],
 "metadata": {
  "kernelspec": {
   "display_name": "Python 3",
   "language": "python",
   "name": "python3"
  },
  "language_info": {
   "codemirror_mode": {
    "name": "ipython",
    "version": 3
   },
   "file_extension": ".py",
   "mimetype": "text/x-python",
   "name": "python",
   "nbconvert_exporter": "python",
   "pygments_lexer": "ipython3",
   "version": "3.7.4"
  }
 },
 "nbformat": 4,
 "nbformat_minor": 2
}
