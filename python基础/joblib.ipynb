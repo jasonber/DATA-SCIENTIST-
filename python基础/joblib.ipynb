{
 "cells": [
  {
   "cell_type": "markdown",
   "metadata": {},
   "source": [
    "# 为什么使用joblib \n",
    "## 管道的好处 \n",
    "管道系统能够提供以下有用的特性：  \n",
    "**数据流编程的性能:**  \n",
    "按需进行计算：在管道系统中，输出是由输入的需要决定的。  \n",
    "透明的并行过程：函数编成，可自由调整结果。  \n",
    "**从头到尾追踪代码**  \n",
    "追踪数据和计算：能重复计算过程   \n",
    "监视数据流：检查中间结果，帮助调试和理解代码   \n",
    "***管道的缺陷***  \n",
    "Joblib的理念是保证底层算法代码不变，避免框架的调整   \n",
    "## Joblib的方法  \n",
    "函数是每个人都会使用的简单方法。Joblib中的任务可以写成函数。  \n",
    "以有意义的方式跟踪参数需要指定数据模型。Joblib放弃了这种方法，并使用散列来提高性能和健壮性。   \n",
    "## 设计选择\n",
    "只依赖python  \n",
    "健壮、测试好的代码、以功能为代价  \n",
    "在对大数据集进行科学计算时不需要改变原数据，就可以很快很好的完成科学计算。"
   ]
  },
  {
   "cell_type": "markdown",
   "metadata": {},
   "source": [
    "# 按需进行验算：memory 类   \n",
    "案例\n",
    "memory类使函数的参数评估变得省事，通过存储结果，默认使用硬盘，以及不重复运行相同参数，来实现。  \n",
    "joblib将输出明确的保存在一个文件中，并且它被设计与非哈希和潜在大量输入输出的数据类型。如numpy的数组。   "
   ]
  },
  {
   "cell_type": "code",
   "execution_count": 1,
   "metadata": {},
   "outputs": [],
   "source": [
    "# 简单的示例\n",
    "# 定义一个缓存路径\n",
    "cachedir = 'your_cache_location_directory'"
   ]
  },
  {
   "cell_type": "code",
   "execution_count": 1,
   "metadata": {
    "scrolled": true
   },
   "outputs": [
    {
     "ename": "ImportError",
     "evalue": "cannot import name 'Memory' from 'joblib' (/home/zhangzhiliang/Documents/my_git/DATA-SCIENTIST-/python基础/joblib.py)",
     "output_type": "error",
     "traceback": [
      "\u001b[0;31m---------------------------------------------------------------------------\u001b[0m",
      "\u001b[0;31mImportError\u001b[0m                               Traceback (most recent call last)",
      "\u001b[0;32m<ipython-input-1-14e887cbc95a>\u001b[0m in \u001b[0;36m<module>\u001b[0;34m\u001b[0m\n\u001b[1;32m      1\u001b[0m \u001b[0;31m# 为这个缓存路径声明一个内存上下文中\u001b[0m\u001b[0;34m\u001b[0m\u001b[0;34m\u001b[0m\u001b[0;34m\u001b[0m\u001b[0m\n\u001b[0;32m----> 2\u001b[0;31m \u001b[0;32mfrom\u001b[0m \u001b[0mjoblib\u001b[0m \u001b[0;32mimport\u001b[0m \u001b[0mMemory\u001b[0m\u001b[0;34m\u001b[0m\u001b[0;34m\u001b[0m\u001b[0m\n\u001b[0m\u001b[1;32m      3\u001b[0m \u001b[0mmemory\u001b[0m \u001b[0;34m=\u001b[0m \u001b[0mMemory\u001b[0m\u001b[0;34m(\u001b[0m\u001b[0mcachedir\u001b[0m\u001b[0;34m,\u001b[0m \u001b[0mverbose\u001b[0m\u001b[0;34m=\u001b[0m\u001b[0;36m0\u001b[0m\u001b[0;34m)\u001b[0m\u001b[0;34m\u001b[0m\u001b[0;34m\u001b[0m\u001b[0m\n",
      "\u001b[0;31mImportError\u001b[0m: cannot import name 'Memory' from 'joblib' (/home/zhangzhiliang/Documents/my_git/DATA-SCIENTIST-/python基础/joblib.py)"
     ]
    }
   ],
   "source": [
    "# 为这个缓存路径声明一个内存上下文中\n",
    "from joblib import Memory\n",
    "memory = Memory(cachedir, verbose=0)"
   ]
  }
 ],
 "metadata": {
  "kernelspec": {
   "display_name": "Python 3",
   "language": "python",
   "name": "python3"
  },
  "language_info": {
   "codemirror_mode": {
    "name": "ipython",
    "version": 3
   },
   "file_extension": ".py",
   "mimetype": "text/x-python",
   "name": "python",
   "nbconvert_exporter": "python",
   "pygments_lexer": "ipython3",
   "version": "3.7.3"
  }
 },
 "nbformat": 4,
 "nbformat_minor": 2
}
